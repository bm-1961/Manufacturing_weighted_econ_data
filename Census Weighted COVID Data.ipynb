{
 "cells": [
  {
   "cell_type": "markdown",
   "metadata": {},
   "source": [
    "# Install Libraries"
   ]
  },
  {
   "cell_type": "code",
   "execution_count": 1,
   "metadata": {},
   "outputs": [
    {
     "name": "stderr",
     "output_type": "stream",
     "text": [
      "Warning message:\n",
      "\"package 'tidyverse' was built under R version 3.6.3\"-- Attaching packages --------------------------------------- tidyverse 1.3.0 --\n",
      "v ggplot2 3.3.0     v purrr   0.3.3\n",
      "v tibble  3.0.0     v dplyr   0.8.5\n",
      "v tidyr   1.0.2     v stringr 1.4.0\n",
      "v readr   1.3.1     v forcats 0.5.0\n",
      "Warning message:\n",
      "\"package 'ggplot2' was built under R version 3.6.3\"Warning message:\n",
      "\"package 'tibble' was built under R version 3.6.3\"Warning message:\n",
      "\"package 'tidyr' was built under R version 3.6.3\"Warning message:\n",
      "\"package 'readr' was built under R version 3.6.3\"Warning message:\n",
      "\"package 'purrr' was built under R version 3.6.3\"Warning message:\n",
      "\"package 'dplyr' was built under R version 3.6.3\"Warning message:\n",
      "\"package 'stringr' was built under R version 3.6.3\"Warning message:\n",
      "\"package 'forcats' was built under R version 3.6.3\"-- Conflicts ------------------------------------------ tidyverse_conflicts() --\n",
      "x dplyr::filter() masks stats::filter()\n",
      "x dplyr::lag()    masks stats::lag()\n",
      "Warning message:\n",
      "\"package 'corrplot' was built under R version 3.6.3\"corrplot 0.84 loaded\n",
      "Warning message:\n",
      "\"package 'RCurl' was built under R version 3.6.2\"\n",
      "Attaching package: 'RCurl'\n",
      "\n",
      "The following object is masked from 'package:tidyr':\n",
      "\n",
      "    complete\n",
      "\n",
      "Warning message:\n",
      "\"package 'maps' was built under R version 3.6.2\"\n",
      "Attaching package: 'maps'\n",
      "\n",
      "The following object is masked from 'package:purrr':\n",
      "\n",
      "    map\n",
      "\n",
      "Warning message:\n",
      "\"package 'usmap' was built under R version 3.6.3\"Warning message:\n",
      "\"package 'lubridate' was built under R version 3.6.3\"\n",
      "Attaching package: 'lubridate'\n",
      "\n",
      "The following objects are masked from 'package:dplyr':\n",
      "\n",
      "    intersect, setdiff, union\n",
      "\n",
      "The following objects are masked from 'package:base':\n",
      "\n",
      "    date, intersect, setdiff, union\n",
      "\n",
      "Warning message:\n",
      "\"package 'httr' was built under R version 3.6.3\"Warning message:\n",
      "\"package 'choroplethrMaps' was built under R version 3.6.3\"Warning message:\n",
      "\"package 'knitr' was built under R version 3.6.3\"Warning message:\n",
      "\"package 'choroplethr' was built under R version 3.6.3\"Loading required package: acs\n",
      "Warning message:\n",
      "\"package 'acs' was built under R version 3.6.3\"Loading required package: XML\n",
      "\n",
      "Attaching package: 'acs'\n",
      "\n",
      "The following object is masked from 'package:dplyr':\n",
      "\n",
      "    combine\n",
      "\n",
      "The following object is masked from 'package:base':\n",
      "\n",
      "    apply\n",
      "\n",
      "Warning message:\n",
      "\"package 'reshape2' was built under R version 3.6.3\"\n",
      "Attaching package: 'reshape2'\n",
      "\n",
      "The following object is masked from 'package:tidyr':\n",
      "\n",
      "    smiths\n",
      "\n",
      "Please visit openintro.org for free statistics materials\n",
      "\n",
      "Attaching package: 'openintro'\n",
      "\n",
      "The following object is masked from 'package:reshape2':\n",
      "\n",
      "    tips\n",
      "\n",
      "The following object is masked from 'package:ggplot2':\n",
      "\n",
      "    diamonds\n",
      "\n",
      "The following objects are masked from 'package:datasets':\n",
      "\n",
      "    cars, trees\n",
      "\n",
      "Warning message:\n",
      "\"package 'zoo' was built under R version 3.6.3\"\n",
      "Attaching package: 'zoo'\n",
      "\n",
      "The following objects are masked from 'package:base':\n",
      "\n",
      "    as.Date, as.Date.numeric\n",
      "\n",
      "To install your API key for use in future sessions, run this function with `install = TRUE`.\n"
     ]
    }
   ],
   "source": [
    "library(tidyverse)\n",
    "library(tidycensus)\n",
    "library(readr)\n",
    "library(dplyr)\n",
    "library(ggplot2)\n",
    "library(tidyr)\n",
    "library(corrplot)\n",
    "library(RCurl)\n",
    "library(maps)\n",
    "library(usmap)\n",
    "library(lubridate)\n",
    "library(\"httr\")\n",
    "library(\"RCurl\")\n",
    "library(choroplethrMaps)\n",
    "library(tidycensus)\n",
    "library(knitr)  # for kable\n",
    "library(maps)\n",
    "library(readr)\n",
    "library(dplyr)\n",
    "library(tidyverse)\n",
    "library(choroplethr)\n",
    "library(\"usmap\")\n",
    "library(\"reshape2\")\n",
    "library('openintro')\n",
    "library(zoo)\n",
    "census_api_key(\"5dc3854fc03ae75783dcbdbe2a9db1509f250cbf\")"
   ]
  },
  {
   "cell_type": "markdown",
   "metadata": {},
   "source": [
    "# Download Census Data"
   ]
  },
  {
   "cell_type": "code",
   "execution_count": 2,
   "metadata": {},
   "outputs": [
    {
     "name": "stderr",
     "output_type": "stream",
     "text": [
      "Getting data from the 2013-2017 5-year ACS\n",
      "Using the ACS Data Profile\n"
     ]
    }
   ],
   "source": [
    "Manufacturing <- get_acs(geography = \"county\", variables = \"DP03_0035PE\" , year = 2017)\n",
    "Manufacturing <- data.frame(Manufacturing$GEOID,Manufacturing$NAME,Manufacturing$estimate)\n",
    "Manufacturing<- rename(Manufacturing, c(\"countyfips\"= \"Manufacturing.GEOID\",\"NAME\" = \"Manufacturing.NAME\",\"Manufacturing\"=\"Manufacturing.estimate\"))"
   ]
  },
  {
   "cell_type": "code",
   "execution_count": 3,
   "metadata": {},
   "outputs": [
    {
     "name": "stderr",
     "output_type": "stream",
     "text": [
      "Getting data from the 2013-2017 5-year ACS\n",
      "Using the ACS Data Profile\n"
     ]
    }
   ],
   "source": [
    "pop <- get_acs(geography = \"county\", variables = \"DP05_0001E\" , year = 2017)\n",
    "pop <- data.frame(pop$GEOID,pop$NAME,pop$estimate)\n",
    "pop<- rename(pop, c(\"countyfips\"= \"pop.GEOID\",\"NAME\" = \"pop.NAME\",\"pop\"=\"pop.estimate\"))"
   ]
  },
  {
   "cell_type": "code",
   "execution_count": 4,
   "metadata": {},
   "outputs": [
    {
     "name": "stderr",
     "output_type": "stream",
     "text": [
      "Joining, by = c(\"countyfips\", \"NAME\")\n"
     ]
    }
   ],
   "source": [
    "Manufacturing <- full_join(Manufacturing, pop, by.x = \"countyfips\",all.x= TRUE)"
   ]
  },
  {
   "cell_type": "code",
   "execution_count": 5,
   "metadata": {},
   "outputs": [],
   "source": [
    "#turn fips into a number\n",
    "Manufacturing[,c(1)] <- as.numeric(as.character(Manufacturing[,c(1)]))"
   ]
  },
  {
   "cell_type": "code",
   "execution_count": 6,
   "metadata": {},
   "outputs": [],
   "source": [
    "Manufacturing$decile <- ntile(Manufacturing$Manufacturing, 5)"
   ]
  },
  {
   "cell_type": "markdown",
   "metadata": {},
   "source": [
    "# Download Covid Economic Data"
   ]
  },
  {
   "cell_type": "code",
   "execution_count": 7,
   "metadata": {},
   "outputs": [],
   "source": [
    "#Credit card data\n",
    "credit <- read.csv(\"https://raw.githubusercontent.com/OpportunityInsights/EconomicTracker/main/data/Affinity%20-%20County%20-%20Weekly.csv\")\n",
    "credit<- rename(credit, c(\"day\"= \"day_endofweek\"))"
   ]
  },
  {
   "cell_type": "code",
   "execution_count": 8,
   "metadata": {},
   "outputs": [
    {
     "data": {
      "text/html": [
       "1774"
      ],
      "text/latex": [
       "1774"
      ],
      "text/markdown": [
       "1774"
      ],
      "text/plain": [
       "[1] 1774"
      ]
     },
     "metadata": {},
     "output_type": "display_data"
    }
   ],
   "source": [
    "charlotte<-rbind(unique(credit$countyfips))\n",
    "ncol(charlotte)"
   ]
  },
  {
   "cell_type": "code",
   "execution_count": 9,
   "metadata": {},
   "outputs": [],
   "source": [
    "#Cases per 100k\n",
    "cases <- read.csv(\"https://raw.githubusercontent.com/OpportunityInsights/EconomicTracker/main/data/COVID%20Cases%20-%20County%20-%20Daily.csv\")"
   ]
  },
  {
   "cell_type": "code",
   "execution_count": 11,
   "metadata": {},
   "outputs": [
    {
     "data": {
      "text/html": [
       "3142"
      ],
      "text/latex": [
       "3142"
      ],
      "text/markdown": [
       "3142"
      ],
      "text/plain": [
       "[1] 3142"
      ]
     },
     "metadata": {},
     "output_type": "display_data"
    }
   ],
   "source": [
    "ben<-rbind(unique(cases$countyfips))\n",
    "ncol(ben)"
   ]
  },
  {
   "cell_type": "code",
   "execution_count": 12,
   "metadata": {},
   "outputs": [],
   "source": [
    "#deaths per 100k\n",
    "deaths <- read.csv(\"https://raw.githubusercontent.com/OpportunityInsights/EconomicTracker/main/data/COVID%20Deaths%20-%20County%20-%20Daily.csv\")"
   ]
  },
  {
   "cell_type": "code",
   "execution_count": 13,
   "metadata": {},
   "outputs": [],
   "source": [
    "#Google Mobility\n",
    "mobility <- read.csv(\"https://raw.githubusercontent.com/OpportunityInsights/EconomicTracker/main/data/Google%20Mobility%20-%20County%20-%20Daily.csv\")"
   ]
  },
  {
   "cell_type": "code",
   "execution_count": 14,
   "metadata": {},
   "outputs": [],
   "source": [
    "mobility[mobility == \".\"] <- NA\n",
    "mobility= select(mobility, year, month, day,countyfips,gps_workplaces)"
   ]
  },
  {
   "cell_type": "code",
   "execution_count": 15,
   "metadata": {},
   "outputs": [],
   "source": [
    "#Business Revenue\n",
    "revenue <- read.csv(\"https://raw.githubusercontent.com/OpportunityInsights/EconomicTracker/main/data/Womply%20Revenue%20-%20County%20-%20Daily.csv\")"
   ]
  },
  {
   "cell_type": "code",
   "execution_count": 16,
   "metadata": {},
   "outputs": [
    {
     "data": {
      "text/html": [
       "2118"
      ],
      "text/latex": [
       "2118"
      ],
      "text/markdown": [
       "2118"
      ],
      "text/plain": [
       "[1] 2118"
      ]
     },
     "metadata": {},
     "output_type": "display_data"
    }
   ],
   "source": [
    "marmite<-rbind(unique(revenue$countyfips))\n",
    "ncol(marmite)"
   ]
  },
  {
   "cell_type": "code",
   "execution_count": 17,
   "metadata": {},
   "outputs": [],
   "source": [
    "#geoid\n",
    "geoid <- read.csv(\"https://raw.githubusercontent.com/OpportunityInsights/EconomicTracker/main/data/GeoIDs%20-%20County.csv\")"
   ]
  },
  {
   "cell_type": "code",
   "execution_count": 18,
   "metadata": {},
   "outputs": [
    {
     "name": "stderr",
     "output_type": "stream",
     "text": [
      "Warning message:\n",
      "\"Column `statename` joining factors with different levels, coercing to character vector\""
     ]
    }
   ],
   "source": [
    "#geoid\n",
    "gdp <- read.csv(\"gdp_weights.csv\")\n",
    "gdp<- rename(gdp, c(\"statename\"= \"ï..State\"))\n",
    "geoid <- geoid %>% left_join(gdp, by=c(\"statename\"))"
   ]
  },
  {
   "cell_type": "markdown",
   "metadata": {},
   "source": [
    "# Merge Data"
   ]
  },
  {
   "cell_type": "code",
   "execution_count": 19,
   "metadata": {},
   "outputs": [],
   "source": [
    "Manufacturing <- Manufacturing %>% left_join(geoid, by=c(\"countyfips\"))"
   ]
  },
  {
   "cell_type": "code",
   "execution_count": 20,
   "metadata": {},
   "outputs": [],
   "source": [
    "credit_1 <- credit %>% left_join(Manufacturing, by=c(\"countyfips\"))\n",
    "credit_1$Date <- as.Date(with(credit_1, paste(year, month, day,sep=\"-\")), \"%Y-%m-%d\")\n",
    "credit_1<-na.omit(credit_1)\n",
    "\n",
    "#sum the total weight of deciles\n",
    "credit_1weights <- aggregate(credit_1$pop, by=list(credit_1$decile,credit_1$Date), FUN=sum)\n",
    "#rename the weight\n",
    "credit_1weights<- rename(credit_1weights, c(\"decile\"= \"Group.1\", \"Date\" = \"Group.2\"))\n",
    "#put into the database\n",
    "credit_1 <- credit_1 %>% left_join(credit_1weights, by=c(\"Date\",\"decile\"))\n",
    "#create the weight\n",
    "credit_1$weight <- credit_1[, \"pop\"] / credit_1[, \"x\"]"
   ]
  },
  {
   "cell_type": "code",
   "execution_count": 21,
   "metadata": {},
   "outputs": [],
   "source": [
    "#credit_1 <- aggregate(credit_1$weight, by=list(credit_1$decile,credit_1$Date), FUN=sum)"
   ]
  },
  {
   "cell_type": "code",
   "execution_count": 22,
   "metadata": {},
   "outputs": [],
   "source": [
    "cases_1 <- cases %>% left_join(Manufacturing, by=c(\"countyfips\"))\n",
    "cases_1$Date <- as.Date(with(cases_1, paste(year, month, day,sep=\"-\")), \"%Y-%m-%d\")\n",
    "cases_1<-na.omit(cases_1)\n",
    "\n",
    "#sum the total weight of deciles\n",
    "cases_1weights <- aggregate(cases_1$pop, by=list(cases_1$decile,cases_1$Date), FUN=sum)\n",
    "#rename the weight\n",
    "cases_1weights<- rename(cases_1weights, c(\"decile\"= \"Group.1\", \"Date\" = \"Group.2\"))\n",
    "#put into the database\n",
    "cases_1 <- cases_1 %>% left_join(cases_1weights, by=c(\"Date\",\"decile\"))\n",
    "#create the weight\n",
    "cases_1$weight <- cases_1[, \"pop\"] / cases_1[, \"x\"]"
   ]
  },
  {
   "cell_type": "code",
   "execution_count": 23,
   "metadata": {},
   "outputs": [],
   "source": [
    "deaths_1 <- deaths %>% left_join(Manufacturing, by=c(\"countyfips\"))\n",
    "deaths_1$Date <- as.Date(with(deaths_1, paste(year, month, day,sep=\"-\")), \"%Y-%m-%d\")\n",
    "deaths_1<-na.omit(deaths_1)\n",
    "\n",
    "#sum the total weight of deciles\n",
    "deaths_1weights <- aggregate(deaths_1$pop, by=list(deaths_1$decile,deaths_1$Date), FUN=sum)\n",
    "#rename the weight\n",
    "deaths_1weights<- rename(deaths_1weights, c(\"decile\"= \"Group.1\", \"Date\" = \"Group.2\"))\n",
    "#put into the database\n",
    "deaths_1 <- deaths_1 %>% left_join(deaths_1weights, by=c(\"Date\",\"decile\"))\n",
    "#create the weight\n",
    "deaths_1$weight <- deaths_1[, \"pop\"] / deaths_1[, \"x\"]"
   ]
  },
  {
   "cell_type": "code",
   "execution_count": 24,
   "metadata": {},
   "outputs": [],
   "source": [
    "#deaths_1 <- aggregate(deaths_1$weight, by=list(deaths_1$decile,deaths_1$Date), FUN=sum)"
   ]
  },
  {
   "cell_type": "code",
   "execution_count": 25,
   "metadata": {},
   "outputs": [],
   "source": [
    "mobility_1 <- mobility %>% left_join(Manufacturing, by=c(\"countyfips\"))\n",
    "mobility_1$Date <- as.Date(with(mobility_1, paste(year, month, day,sep=\"-\")), \"%Y-%m-%d\")\n",
    "mobility_1<-na.omit(mobility_1)\n",
    "\n",
    "#sum the total weight of deciles\n",
    "mobility_1weights <- aggregate(mobility_1$pop, by=list(mobility_1$decile,mobility_1$Date), FUN=sum)\n",
    "#rename the weight\n",
    "mobility_1weights<- rename(mobility_1weights, c(\"decile\"= \"Group.1\", \"Date\" = \"Group.2\"))\n",
    "#put into the database\n",
    "mobility_1 <- mobility_1 %>% left_join(mobility_1weights, by=c(\"Date\",\"decile\"))\n",
    "#create the weight\n",
    "mobility_1$weight <- mobility_1[, \"pop\"] / mobility_1[, \"x\"]"
   ]
  },
  {
   "cell_type": "code",
   "execution_count": 26,
   "metadata": {},
   "outputs": [],
   "source": [
    "revenue_1 <- revenue %>% left_join(Manufacturing, by=c(\"countyfips\"))\n",
    "revenue_1$Date <- as.Date(with(revenue_1, paste(year, month, day,sep=\"-\")), \"%Y-%m-%d\")\n",
    "revenue_1<-na.omit(revenue_1)\n",
    "\n",
    "#sum the total weight of deciles\n",
    "revenue_1weights <- aggregate(revenue_1$pop, by=list(revenue_1$decile,revenue_1$Date), FUN=sum)\n",
    "#rename the weight\n",
    "revenue_1weights<- rename(revenue_1weights, c(\"decile\"= \"Group.1\", \"Date\" = \"Group.2\"))\n",
    "#put into the database\n",
    "revenue_1 <- revenue_1 %>% left_join(revenue_1weights, by=c(\"Date\",\"decile\"))\n",
    "#create the weight\n",
    "revenue_1$weight <- revenue_1[, \"pop\"] / revenue_1[, \"x\"]"
   ]
  },
  {
   "cell_type": "markdown",
   "metadata": {},
   "source": [
    "# Apply weights"
   ]
  },
  {
   "cell_type": "code",
   "execution_count": 27,
   "metadata": {},
   "outputs": [
    {
     "name": "stderr",
     "output_type": "stream",
     "text": [
      "Warning message in eval(expr, envir, enclos):\n",
      "\"NAs introduced by coercion\"Warning message in eval(expr, envir, enclos):\n",
      "\"NAs introduced by coercion\"Warning message in revenue_1$revenue_all * credit_1$weight:\n",
      "\"longer object length is not a multiple of shorter object length\""
     ]
    }
   ],
   "source": [
    "credit_1$spend_all <- as.numeric(as.character(credit_1$spend_all))\n",
    "credit_1$spend_all_weight <- credit_1$spend_all* credit_1$weight\n",
    "\n",
    "cases_1$case_rate <- as.numeric(as.character(cases_1$case_rate))\n",
    "cases_1$spend_all_weight <- cases_1$case_rate* cases_1$weight\n",
    "\n",
    "deaths_1$death_rate <- as.numeric(as.character(deaths_1$death_rate))\n",
    "deaths_1$spend_all_weight <- deaths_1$death_rate* deaths_1$weight\n",
    "\n",
    "mobility_1$gps_workplaces <- as.numeric(as.character(mobility_1$gps_workplaces))\n",
    "mobility_1$spend_all_weight <- mobility_1$gps_workplaces* mobility_1$weight\n",
    "\n",
    "revenue_1$revenue_all <- as.numeric(as.character(revenue_1$revenue_all))\n",
    "revenue_1$spend_all_weight <- revenue_1$revenue_all* credit_1$weight"
   ]
  },
  {
   "cell_type": "code",
   "execution_count": 28,
   "metadata": {},
   "outputs": [
    {
     "data": {
      "text/html": [
       "<table>\n",
       "<thead><tr><th></th><th scope=col>year</th><th scope=col>month</th><th scope=col>day</th><th scope=col>countyfips</th><th scope=col>case_rate</th><th scope=col>new_case_rate</th><th scope=col>NAME</th><th scope=col>Manufacturing</th><th scope=col>pop</th><th scope=col>decile</th><th scope=col>...</th><th scope=col>statefips</th><th scope=col>stateabbrev</th><th scope=col>county_pop2019</th><th scope=col>GDP_Contribution</th><th scope=col>Region</th><th scope=col>GDP_region</th><th scope=col>Date</th><th scope=col>x</th><th scope=col>weight</th><th scope=col>spend_all_weight</th></tr></thead>\n",
       "<tbody>\n",
       "\t<tr><th scope=row>576283</th><td>2020                      </td><td>7                         </td><td>22                        </td><td>56035                     </td><td> 183.0                    </td><td>11.6                      </td><td>Sublette County, Wyoming  </td><td>2.0                       </td><td>10037                     </td><td>1                         </td><td>...                       </td><td>56                        </td><td>WY                        </td><td> 9831                     </td><td>0.002                     </td><td>Rocky Mountain            </td><td>0.006452                  </td><td>2020-07-22                </td><td>64439536                  </td><td>1.557584e-04              </td><td>0.028503790               </td></tr>\n",
       "\t<tr><th scope=row>576284</th><td>2020                      </td><td>7                         </td><td>22                        </td><td>56037                     </td><td> 475.0                    </td><td>14.8                      </td><td>Sweetwater County, Wyoming</td><td>6.8                       </td><td>44527                     </td><td>2                         </td><td>...                       </td><td>56                        </td><td>WY                        </td><td>42343                     </td><td>0.002                     </td><td>Rocky Mountain            </td><td>0.006452                  </td><td>2020-07-22                </td><td>92548011                  </td><td>4.811233e-04              </td><td>0.228533545               </td></tr>\n",
       "\t<tr><th scope=row>576285</th><td>2020                      </td><td>7                         </td><td>22                        </td><td>56039                     </td><td> 997.0                    </td><td>39                        </td><td>Teton County, Wyoming     </td><td>1.4                       </td><td>22923                     </td><td>1                         </td><td>...                       </td><td>56                        </td><td>WY                        </td><td>23464                     </td><td>0.002                     </td><td>Rocky Mountain            </td><td>0.006452                  </td><td>2020-07-22                </td><td>64439536                  </td><td>3.557288e-04              </td><td>0.354661632               </td></tr>\n",
       "\t<tr><th scope=row>576286</th><td>2020                      </td><td>7                         </td><td>22                        </td><td>56041                     </td><td>1107.0                    </td><td>11.3                      </td><td>Uinta County, Wyoming     </td><td>5.2                       </td><td>20758                     </td><td>1                         </td><td>...                       </td><td>56                        </td><td>WY                        </td><td>20226                     </td><td>0.002                     </td><td>Rocky Mountain            </td><td>0.006452                  </td><td>2020-07-22                </td><td>64439536                  </td><td>3.221314e-04              </td><td>0.356599495               </td></tr>\n",
       "\t<tr><th scope=row>576287</th><td>2020                      </td><td>7                         </td><td>22                        </td><td>56043                     </td><td> 564.0                    </td><td>3.66                      </td><td>Washakie County, Wyoming  </td><td>9.9                       </td><td> 8253                     </td><td>3                         </td><td>...                       </td><td>56                        </td><td>WY                        </td><td> 7805                     </td><td>0.002                     </td><td>Rocky Mountain            </td><td>0.006452                  </td><td>2020-07-22                </td><td>89325098                  </td><td>9.239285e-05              </td><td>0.052109565               </td></tr>\n",
       "\t<tr><th scope=row>576288</th><td>2020                      </td><td>7                         </td><td>22                        </td><td>56045                     </td><td>  57.7                    </td><td>2.06                      </td><td>Weston County, Wyoming    </td><td>6.2                       </td><td> 7117                     </td><td>2                         </td><td>...                       </td><td>56                        </td><td>WY                        </td><td> 6927                     </td><td>0.002                     </td><td>Rocky Mountain            </td><td>0.006452                  </td><td>2020-07-22                </td><td>92548011                  </td><td>7.690063e-05              </td><td>0.004437166               </td></tr>\n",
       "</tbody>\n",
       "</table>\n"
      ],
      "text/latex": [
       "\\begin{tabular}{r|llllllllllllllllllllllll}\n",
       "  & year & month & day & countyfips & case\\_rate & new\\_case\\_rate & NAME & Manufacturing & pop & decile & ... & statefips & stateabbrev & county\\_pop2019 & GDP\\_Contribution & Region & GDP\\_region & Date & x & weight & spend\\_all\\_weight\\\\\n",
       "\\hline\n",
       "\t576283 & 2020                       & 7                          & 22                         & 56035                      &  183.0                     & 11.6                       & Sublette County, Wyoming   & 2.0                        & 10037                      & 1                          & ...                        & 56                         & WY                         &  9831                      & 0.002                      & Rocky Mountain             & 0.006452                   & 2020-07-22                 & 64439536                   & 1.557584e-04               & 0.028503790               \\\\\n",
       "\t576284 & 2020                       & 7                          & 22                         & 56037                      &  475.0                     & 14.8                       & Sweetwater County, Wyoming & 6.8                        & 44527                      & 2                          & ...                        & 56                         & WY                         & 42343                      & 0.002                      & Rocky Mountain             & 0.006452                   & 2020-07-22                 & 92548011                   & 4.811233e-04               & 0.228533545               \\\\\n",
       "\t576285 & 2020                       & 7                          & 22                         & 56039                      &  997.0                     & 39                         & Teton County, Wyoming      & 1.4                        & 22923                      & 1                          & ...                        & 56                         & WY                         & 23464                      & 0.002                      & Rocky Mountain             & 0.006452                   & 2020-07-22                 & 64439536                   & 3.557288e-04               & 0.354661632               \\\\\n",
       "\t576286 & 2020                       & 7                          & 22                         & 56041                      & 1107.0                     & 11.3                       & Uinta County, Wyoming      & 5.2                        & 20758                      & 1                          & ...                        & 56                         & WY                         & 20226                      & 0.002                      & Rocky Mountain             & 0.006452                   & 2020-07-22                 & 64439536                   & 3.221314e-04               & 0.356599495               \\\\\n",
       "\t576287 & 2020                       & 7                          & 22                         & 56043                      &  564.0                     & 3.66                       & Washakie County, Wyoming   & 9.9                        &  8253                      & 3                          & ...                        & 56                         & WY                         &  7805                      & 0.002                      & Rocky Mountain             & 0.006452                   & 2020-07-22                 & 89325098                   & 9.239285e-05               & 0.052109565               \\\\\n",
       "\t576288 & 2020                       & 7                          & 22                         & 56045                      &   57.7                     & 2.06                       & Weston County, Wyoming     & 6.2                        &  7117                      & 2                          & ...                        & 56                         & WY                         &  6927                      & 0.002                      & Rocky Mountain             & 0.006452                   & 2020-07-22                 & 92548011                   & 7.690063e-05               & 0.004437166               \\\\\n",
       "\\end{tabular}\n"
      ],
      "text/markdown": [
       "\n",
       "| <!--/--> | year | month | day | countyfips | case_rate | new_case_rate | NAME | Manufacturing | pop | decile | ... | statefips | stateabbrev | county_pop2019 | GDP_Contribution | Region | GDP_region | Date | x | weight | spend_all_weight |\n",
       "|---|---|---|---|---|---|---|---|---|---|---|---|---|---|---|---|---|---|---|---|---|---|\n",
       "| 576283 | 2020                       | 7                          | 22                         | 56035                      |  183.0                     | 11.6                       | Sublette County, Wyoming   | 2.0                        | 10037                      | 1                          | ...                        | 56                         | WY                         |  9831                      | 0.002                      | Rocky Mountain             | 0.006452                   | 2020-07-22                 | 64439536                   | 1.557584e-04               | 0.028503790                |\n",
       "| 576284 | 2020                       | 7                          | 22                         | 56037                      |  475.0                     | 14.8                       | Sweetwater County, Wyoming | 6.8                        | 44527                      | 2                          | ...                        | 56                         | WY                         | 42343                      | 0.002                      | Rocky Mountain             | 0.006452                   | 2020-07-22                 | 92548011                   | 4.811233e-04               | 0.228533545                |\n",
       "| 576285 | 2020                       | 7                          | 22                         | 56039                      |  997.0                     | 39                         | Teton County, Wyoming      | 1.4                        | 22923                      | 1                          | ...                        | 56                         | WY                         | 23464                      | 0.002                      | Rocky Mountain             | 0.006452                   | 2020-07-22                 | 64439536                   | 3.557288e-04               | 0.354661632                |\n",
       "| 576286 | 2020                       | 7                          | 22                         | 56041                      | 1107.0                     | 11.3                       | Uinta County, Wyoming      | 5.2                        | 20758                      | 1                          | ...                        | 56                         | WY                         | 20226                      | 0.002                      | Rocky Mountain             | 0.006452                   | 2020-07-22                 | 64439536                   | 3.221314e-04               | 0.356599495                |\n",
       "| 576287 | 2020                       | 7                          | 22                         | 56043                      |  564.0                     | 3.66                       | Washakie County, Wyoming   | 9.9                        |  8253                      | 3                          | ...                        | 56                         | WY                         |  7805                      | 0.002                      | Rocky Mountain             | 0.006452                   | 2020-07-22                 | 89325098                   | 9.239285e-05               | 0.052109565                |\n",
       "| 576288 | 2020                       | 7                          | 22                         | 56045                      |   57.7                     | 2.06                       | Weston County, Wyoming     | 6.2                        |  7117                      | 2                          | ...                        | 56                         | WY                         |  6927                      | 0.002                      | Rocky Mountain             | 0.006452                   | 2020-07-22                 | 92548011                   | 7.690063e-05               | 0.004437166                |\n",
       "\n"
      ],
      "text/plain": [
       "       year month day countyfips case_rate new_case_rate\n",
       "576283 2020 7     22  56035       183.0    11.6         \n",
       "576284 2020 7     22  56037       475.0    14.8         \n",
       "576285 2020 7     22  56039       997.0    39           \n",
       "576286 2020 7     22  56041      1107.0    11.3         \n",
       "576287 2020 7     22  56043       564.0    3.66         \n",
       "576288 2020 7     22  56045        57.7    2.06         \n",
       "       NAME                       Manufacturing pop   decile ... statefips\n",
       "576283 Sublette County, Wyoming   2.0           10037 1      ... 56       \n",
       "576284 Sweetwater County, Wyoming 6.8           44527 2      ... 56       \n",
       "576285 Teton County, Wyoming      1.4           22923 1      ... 56       \n",
       "576286 Uinta County, Wyoming      5.2           20758 1      ... 56       \n",
       "576287 Washakie County, Wyoming   9.9            8253 3      ... 56       \n",
       "576288 Weston County, Wyoming     6.2            7117 2      ... 56       \n",
       "       stateabbrev county_pop2019 GDP_Contribution Region         GDP_region\n",
       "576283 WY           9831          0.002            Rocky Mountain 0.006452  \n",
       "576284 WY          42343          0.002            Rocky Mountain 0.006452  \n",
       "576285 WY          23464          0.002            Rocky Mountain 0.006452  \n",
       "576286 WY          20226          0.002            Rocky Mountain 0.006452  \n",
       "576287 WY           7805          0.002            Rocky Mountain 0.006452  \n",
       "576288 WY           6927          0.002            Rocky Mountain 0.006452  \n",
       "       Date       x        weight       spend_all_weight\n",
       "576283 2020-07-22 64439536 1.557584e-04 0.028503790     \n",
       "576284 2020-07-22 92548011 4.811233e-04 0.228533545     \n",
       "576285 2020-07-22 64439536 3.557288e-04 0.354661632     \n",
       "576286 2020-07-22 64439536 3.221314e-04 0.356599495     \n",
       "576287 2020-07-22 89325098 9.239285e-05 0.052109565     \n",
       "576288 2020-07-22 92548011 7.690063e-05 0.004437166     "
      ]
     },
     "metadata": {},
     "output_type": "display_data"
    }
   ],
   "source": [
    "tail(cases_1)"
   ]
  },
  {
   "cell_type": "code",
   "execution_count": 29,
   "metadata": {},
   "outputs": [],
   "source": [
    "#sum up each count by date\n",
    "credit_weight <- aggregate(credit_1$spend_all_weight, by=list(credit_1$Date,credit_1$decile), sum)\n",
    "credit_weight<- rename(credit_weight, c(\"Date\"= \"Group.1\",\"decile\"=\"Group.2\",\"credit\"=\"x\"))\n",
    "\n",
    "\n",
    "cases_weight <- aggregate(cases_1$spend_all_weight, by=list(cases_1$Date,cases_1$decile), sum)\n",
    "cases_weight<- rename(cases_weight, c(\"Date\"= \"Group.1\",\"decile\"=\"Group.2\",\"cases\"=\"x\"))\n",
    "\n",
    "\n",
    "deaths_weight <- aggregate(deaths_1$spend_all_weight, by=list(deaths_1$Date,deaths_1$decile), sum)\n",
    "deaths_weight<- rename(deaths_weight, c(\"Date\"= \"Group.1\",\"decile\"=\"Group.2\",\"deaths\"=\"x\"))\n",
    "\n",
    "\n",
    "mobility_weight <- aggregate(mobility_1$spend_all_weight, by=list(mobility_1$Date,mobility_1$decile), sum)\n",
    "mobility_weight<- rename(mobility_weight, c(\"Date\"= \"Group.1\",\"decile\"=\"Group.2\",\"mobility\"=\"x\"))\n",
    "\n",
    "\n",
    "revenue_weight <- aggregate(revenue_1$spend_all_weight, by=list(revenue_1$Date,revenue_1$decile), sum)\n",
    "revenue_weight<- rename(revenue_weight, c(\"Date\"= \"Group.1\",\"decile\"=\"Group.2\",\"revenue\"=\"x\"))"
   ]
  },
  {
   "cell_type": "code",
   "execution_count": 30,
   "metadata": {},
   "outputs": [
    {
     "data": {
      "text/html": [
       "<table>\n",
       "<thead><tr><th></th><th scope=col>Date</th><th scope=col>decile</th><th scope=col>cases</th></tr></thead>\n",
       "<tbody>\n",
       "\t<tr><th scope=row>671</th><td>2020-05-18</td><td>4         </td><td>315.8052  </td></tr>\n",
       "\t<tr><th scope=row>672</th><td>2020-05-19</td><td>4         </td><td>321.1032  </td></tr>\n",
       "\t<tr><th scope=row>673</th><td>2020-05-20</td><td>4         </td><td>327.5370  </td></tr>\n",
       "\t<tr><th scope=row>674</th><td>2020-05-21</td><td>4         </td><td>334.5552  </td></tr>\n",
       "\t<tr><th scope=row>675</th><td>2020-05-22</td><td>4         </td><td>341.6151  </td></tr>\n",
       "\t<tr><th scope=row>676</th><td>2020-05-23</td><td>4         </td><td>348.0734  </td></tr>\n",
       "\t<tr><th scope=row>677</th><td>2020-05-24</td><td>4         </td><td>353.8415  </td></tr>\n",
       "\t<tr><th scope=row>678</th><td>2020-05-25</td><td>4         </td><td>358.6165  </td></tr>\n",
       "\t<tr><th scope=row>679</th><td>2020-05-26</td><td>4         </td><td>363.8075  </td></tr>\n",
       "\t<tr><th scope=row>680</th><td>2020-05-27</td><td>4         </td><td>369.1168  </td></tr>\n",
       "\t<tr><th scope=row>681</th><td>2020-05-28</td><td>4         </td><td>375.0996  </td></tr>\n",
       "\t<tr><th scope=row>682</th><td>2020-05-29</td><td>4         </td><td>381.8624  </td></tr>\n",
       "\t<tr><th scope=row>683</th><td>2020-05-30</td><td>4         </td><td>387.2825  </td></tr>\n",
       "\t<tr><th scope=row>684</th><td>2020-05-31</td><td>4         </td><td>392.9169  </td></tr>\n",
       "\t<tr><th scope=row>685</th><td>2020-06-01</td><td>4         </td><td>397.3349  </td></tr>\n",
       "\t<tr><th scope=row>686</th><td>2020-06-02</td><td>4         </td><td>402.0393  </td></tr>\n",
       "\t<tr><th scope=row>687</th><td>2020-06-03</td><td>4         </td><td>407.4139  </td></tr>\n",
       "\t<tr><th scope=row>688</th><td>2020-06-04</td><td>4         </td><td>413.0217  </td></tr>\n",
       "\t<tr><th scope=row>689</th><td>2020-06-05</td><td>4         </td><td>421.9083  </td></tr>\n",
       "\t<tr><th scope=row>690</th><td>2020-06-06</td><td>4         </td><td>428.0847  </td></tr>\n",
       "\t<tr><th scope=row>691</th><td>2020-06-07</td><td>4         </td><td>432.7780  </td></tr>\n",
       "\t<tr><th scope=row>692</th><td>2020-06-08</td><td>4         </td><td>437.4217  </td></tr>\n",
       "\t<tr><th scope=row>693</th><td>2020-06-09</td><td>4         </td><td>442.1543  </td></tr>\n",
       "\t<tr><th scope=row>694</th><td>2020-06-10</td><td>4         </td><td>447.2104  </td></tr>\n",
       "\t<tr><th scope=row>695</th><td>2020-06-11</td><td>4         </td><td>452.4854  </td></tr>\n",
       "\t<tr><th scope=row>696</th><td>2020-06-12</td><td>4         </td><td>459.6261  </td></tr>\n",
       "\t<tr><th scope=row>697</th><td>2020-06-13</td><td>4         </td><td>465.2486  </td></tr>\n",
       "\t<tr><th scope=row>698</th><td>2020-06-14</td><td>4         </td><td>469.8151  </td></tr>\n",
       "\t<tr><th scope=row>699</th><td>2020-06-15</td><td>4         </td><td>475.1633  </td></tr>\n",
       "\t<tr><th scope=row>700</th><td>2020-06-16</td><td>4         </td><td>480.3761  </td></tr>\n",
       "\t<tr><th scope=row>...</th><td>...</td><td>...</td><td>...</td></tr>\n",
       "\t<tr><th scope=row>891</th><td>2020-06-23</td><td>5         </td><td>571.0949  </td></tr>\n",
       "\t<tr><th scope=row>892</th><td>2020-06-24</td><td>5         </td><td>579.1904  </td></tr>\n",
       "\t<tr><th scope=row>893</th><td>2020-06-25</td><td>5         </td><td>589.2766  </td></tr>\n",
       "\t<tr><th scope=row>894</th><td>2020-06-26</td><td>5         </td><td>599.2382  </td></tr>\n",
       "\t<tr><th scope=row>895</th><td>2020-06-27</td><td>5         </td><td>607.8928  </td></tr>\n",
       "\t<tr><th scope=row>896</th><td>2020-06-28</td><td>5         </td><td>615.1995  </td></tr>\n",
       "\t<tr><th scope=row>897</th><td>2020-06-29</td><td>5         </td><td>624.0744  </td></tr>\n",
       "\t<tr><th scope=row>898</th><td>2020-06-30</td><td>5         </td><td>633.3983  </td></tr>\n",
       "\t<tr><th scope=row>899</th><td>2020-07-01</td><td>5         </td><td>643.1414  </td></tr>\n",
       "\t<tr><th scope=row>900</th><td>2020-07-02</td><td>5         </td><td>652.8915  </td></tr>\n",
       "\t<tr><th scope=row>901</th><td>2020-07-03</td><td>5         </td><td>665.9587  </td></tr>\n",
       "\t<tr><th scope=row>902</th><td>2020-07-04</td><td>5         </td><td>674.4244  </td></tr>\n",
       "\t<tr><th scope=row>903</th><td>2020-07-05</td><td>5         </td><td>681.5409  </td></tr>\n",
       "\t<tr><th scope=row>904</th><td>2020-07-06</td><td>5         </td><td>690.2116  </td></tr>\n",
       "\t<tr><th scope=row>905</th><td>2020-07-07</td><td>5         </td><td>700.3631  </td></tr>\n",
       "\t<tr><th scope=row>906</th><td>2020-07-08</td><td>5         </td><td>712.8518  </td></tr>\n",
       "\t<tr><th scope=row>907</th><td>2020-07-09</td><td>5         </td><td>725.4047  </td></tr>\n",
       "\t<tr><th scope=row>908</th><td>2020-07-10</td><td>5         </td><td>739.4262  </td></tr>\n",
       "\t<tr><th scope=row>909</th><td>2020-07-11</td><td>5         </td><td>752.7004  </td></tr>\n",
       "\t<tr><th scope=row>910</th><td>2020-07-12</td><td>5         </td><td>762.8168  </td></tr>\n",
       "\t<tr><th scope=row>911</th><td>2020-07-13</td><td>5         </td><td>776.4341  </td></tr>\n",
       "\t<tr><th scope=row>912</th><td>2020-07-14</td><td>5         </td><td>789.6846  </td></tr>\n",
       "\t<tr><th scope=row>913</th><td>2020-07-15</td><td>5         </td><td>806.2433  </td></tr>\n",
       "\t<tr><th scope=row>914</th><td>2020-07-16</td><td>5         </td><td>821.8463  </td></tr>\n",
       "\t<tr><th scope=row>915</th><td>2020-07-17</td><td>5         </td><td>838.2910  </td></tr>\n",
       "\t<tr><th scope=row>916</th><td>2020-07-18</td><td>5         </td><td>853.0974  </td></tr>\n",
       "\t<tr><th scope=row>917</th><td>2020-07-19</td><td>5         </td><td>865.9449  </td></tr>\n",
       "\t<tr><th scope=row>918</th><td>2020-07-20</td><td>5         </td><td>880.2911  </td></tr>\n",
       "\t<tr><th scope=row>919</th><td>2020-07-21</td><td>5         </td><td>897.1267  </td></tr>\n",
       "\t<tr><th scope=row>920</th><td>2020-07-22</td><td>5         </td><td>912.1955  </td></tr>\n",
       "</tbody>\n",
       "</table>\n"
      ],
      "text/latex": [
       "\\begin{tabular}{r|lll}\n",
       "  & Date & decile & cases\\\\\n",
       "\\hline\n",
       "\t671 & 2020-05-18 & 4          & 315.8052  \\\\\n",
       "\t672 & 2020-05-19 & 4          & 321.1032  \\\\\n",
       "\t673 & 2020-05-20 & 4          & 327.5370  \\\\\n",
       "\t674 & 2020-05-21 & 4          & 334.5552  \\\\\n",
       "\t675 & 2020-05-22 & 4          & 341.6151  \\\\\n",
       "\t676 & 2020-05-23 & 4          & 348.0734  \\\\\n",
       "\t677 & 2020-05-24 & 4          & 353.8415  \\\\\n",
       "\t678 & 2020-05-25 & 4          & 358.6165  \\\\\n",
       "\t679 & 2020-05-26 & 4          & 363.8075  \\\\\n",
       "\t680 & 2020-05-27 & 4          & 369.1168  \\\\\n",
       "\t681 & 2020-05-28 & 4          & 375.0996  \\\\\n",
       "\t682 & 2020-05-29 & 4          & 381.8624  \\\\\n",
       "\t683 & 2020-05-30 & 4          & 387.2825  \\\\\n",
       "\t684 & 2020-05-31 & 4          & 392.9169  \\\\\n",
       "\t685 & 2020-06-01 & 4          & 397.3349  \\\\\n",
       "\t686 & 2020-06-02 & 4          & 402.0393  \\\\\n",
       "\t687 & 2020-06-03 & 4          & 407.4139  \\\\\n",
       "\t688 & 2020-06-04 & 4          & 413.0217  \\\\\n",
       "\t689 & 2020-06-05 & 4          & 421.9083  \\\\\n",
       "\t690 & 2020-06-06 & 4          & 428.0847  \\\\\n",
       "\t691 & 2020-06-07 & 4          & 432.7780  \\\\\n",
       "\t692 & 2020-06-08 & 4          & 437.4217  \\\\\n",
       "\t693 & 2020-06-09 & 4          & 442.1543  \\\\\n",
       "\t694 & 2020-06-10 & 4          & 447.2104  \\\\\n",
       "\t695 & 2020-06-11 & 4          & 452.4854  \\\\\n",
       "\t696 & 2020-06-12 & 4          & 459.6261  \\\\\n",
       "\t697 & 2020-06-13 & 4          & 465.2486  \\\\\n",
       "\t698 & 2020-06-14 & 4          & 469.8151  \\\\\n",
       "\t699 & 2020-06-15 & 4          & 475.1633  \\\\\n",
       "\t700 & 2020-06-16 & 4          & 480.3761  \\\\\n",
       "\t... & ... & ... & ...\\\\\n",
       "\t891 & 2020-06-23 & 5          & 571.0949  \\\\\n",
       "\t892 & 2020-06-24 & 5          & 579.1904  \\\\\n",
       "\t893 & 2020-06-25 & 5          & 589.2766  \\\\\n",
       "\t894 & 2020-06-26 & 5          & 599.2382  \\\\\n",
       "\t895 & 2020-06-27 & 5          & 607.8928  \\\\\n",
       "\t896 & 2020-06-28 & 5          & 615.1995  \\\\\n",
       "\t897 & 2020-06-29 & 5          & 624.0744  \\\\\n",
       "\t898 & 2020-06-30 & 5          & 633.3983  \\\\\n",
       "\t899 & 2020-07-01 & 5          & 643.1414  \\\\\n",
       "\t900 & 2020-07-02 & 5          & 652.8915  \\\\\n",
       "\t901 & 2020-07-03 & 5          & 665.9587  \\\\\n",
       "\t902 & 2020-07-04 & 5          & 674.4244  \\\\\n",
       "\t903 & 2020-07-05 & 5          & 681.5409  \\\\\n",
       "\t904 & 2020-07-06 & 5          & 690.2116  \\\\\n",
       "\t905 & 2020-07-07 & 5          & 700.3631  \\\\\n",
       "\t906 & 2020-07-08 & 5          & 712.8518  \\\\\n",
       "\t907 & 2020-07-09 & 5          & 725.4047  \\\\\n",
       "\t908 & 2020-07-10 & 5          & 739.4262  \\\\\n",
       "\t909 & 2020-07-11 & 5          & 752.7004  \\\\\n",
       "\t910 & 2020-07-12 & 5          & 762.8168  \\\\\n",
       "\t911 & 2020-07-13 & 5          & 776.4341  \\\\\n",
       "\t912 & 2020-07-14 & 5          & 789.6846  \\\\\n",
       "\t913 & 2020-07-15 & 5          & 806.2433  \\\\\n",
       "\t914 & 2020-07-16 & 5          & 821.8463  \\\\\n",
       "\t915 & 2020-07-17 & 5          & 838.2910  \\\\\n",
       "\t916 & 2020-07-18 & 5          & 853.0974  \\\\\n",
       "\t917 & 2020-07-19 & 5          & 865.9449  \\\\\n",
       "\t918 & 2020-07-20 & 5          & 880.2911  \\\\\n",
       "\t919 & 2020-07-21 & 5          & 897.1267  \\\\\n",
       "\t920 & 2020-07-22 & 5          & 912.1955  \\\\\n",
       "\\end{tabular}\n"
      ],
      "text/markdown": [
       "\n",
       "| <!--/--> | Date | decile | cases |\n",
       "|---|---|---|---|\n",
       "| 671 | 2020-05-18 | 4          | 315.8052   |\n",
       "| 672 | 2020-05-19 | 4          | 321.1032   |\n",
       "| 673 | 2020-05-20 | 4          | 327.5370   |\n",
       "| 674 | 2020-05-21 | 4          | 334.5552   |\n",
       "| 675 | 2020-05-22 | 4          | 341.6151   |\n",
       "| 676 | 2020-05-23 | 4          | 348.0734   |\n",
       "| 677 | 2020-05-24 | 4          | 353.8415   |\n",
       "| 678 | 2020-05-25 | 4          | 358.6165   |\n",
       "| 679 | 2020-05-26 | 4          | 363.8075   |\n",
       "| 680 | 2020-05-27 | 4          | 369.1168   |\n",
       "| 681 | 2020-05-28 | 4          | 375.0996   |\n",
       "| 682 | 2020-05-29 | 4          | 381.8624   |\n",
       "| 683 | 2020-05-30 | 4          | 387.2825   |\n",
       "| 684 | 2020-05-31 | 4          | 392.9169   |\n",
       "| 685 | 2020-06-01 | 4          | 397.3349   |\n",
       "| 686 | 2020-06-02 | 4          | 402.0393   |\n",
       "| 687 | 2020-06-03 | 4          | 407.4139   |\n",
       "| 688 | 2020-06-04 | 4          | 413.0217   |\n",
       "| 689 | 2020-06-05 | 4          | 421.9083   |\n",
       "| 690 | 2020-06-06 | 4          | 428.0847   |\n",
       "| 691 | 2020-06-07 | 4          | 432.7780   |\n",
       "| 692 | 2020-06-08 | 4          | 437.4217   |\n",
       "| 693 | 2020-06-09 | 4          | 442.1543   |\n",
       "| 694 | 2020-06-10 | 4          | 447.2104   |\n",
       "| 695 | 2020-06-11 | 4          | 452.4854   |\n",
       "| 696 | 2020-06-12 | 4          | 459.6261   |\n",
       "| 697 | 2020-06-13 | 4          | 465.2486   |\n",
       "| 698 | 2020-06-14 | 4          | 469.8151   |\n",
       "| 699 | 2020-06-15 | 4          | 475.1633   |\n",
       "| 700 | 2020-06-16 | 4          | 480.3761   |\n",
       "| ... | ... | ... | ... |\n",
       "| 891 | 2020-06-23 | 5          | 571.0949   |\n",
       "| 892 | 2020-06-24 | 5          | 579.1904   |\n",
       "| 893 | 2020-06-25 | 5          | 589.2766   |\n",
       "| 894 | 2020-06-26 | 5          | 599.2382   |\n",
       "| 895 | 2020-06-27 | 5          | 607.8928   |\n",
       "| 896 | 2020-06-28 | 5          | 615.1995   |\n",
       "| 897 | 2020-06-29 | 5          | 624.0744   |\n",
       "| 898 | 2020-06-30 | 5          | 633.3983   |\n",
       "| 899 | 2020-07-01 | 5          | 643.1414   |\n",
       "| 900 | 2020-07-02 | 5          | 652.8915   |\n",
       "| 901 | 2020-07-03 | 5          | 665.9587   |\n",
       "| 902 | 2020-07-04 | 5          | 674.4244   |\n",
       "| 903 | 2020-07-05 | 5          | 681.5409   |\n",
       "| 904 | 2020-07-06 | 5          | 690.2116   |\n",
       "| 905 | 2020-07-07 | 5          | 700.3631   |\n",
       "| 906 | 2020-07-08 | 5          | 712.8518   |\n",
       "| 907 | 2020-07-09 | 5          | 725.4047   |\n",
       "| 908 | 2020-07-10 | 5          | 739.4262   |\n",
       "| 909 | 2020-07-11 | 5          | 752.7004   |\n",
       "| 910 | 2020-07-12 | 5          | 762.8168   |\n",
       "| 911 | 2020-07-13 | 5          | 776.4341   |\n",
       "| 912 | 2020-07-14 | 5          | 789.6846   |\n",
       "| 913 | 2020-07-15 | 5          | 806.2433   |\n",
       "| 914 | 2020-07-16 | 5          | 821.8463   |\n",
       "| 915 | 2020-07-17 | 5          | 838.2910   |\n",
       "| 916 | 2020-07-18 | 5          | 853.0974   |\n",
       "| 917 | 2020-07-19 | 5          | 865.9449   |\n",
       "| 918 | 2020-07-20 | 5          | 880.2911   |\n",
       "| 919 | 2020-07-21 | 5          | 897.1267   |\n",
       "| 920 | 2020-07-22 | 5          | 912.1955   |\n",
       "\n"
      ],
      "text/plain": [
       "    Date       decile cases   \n",
       "671 2020-05-18 4      315.8052\n",
       "672 2020-05-19 4      321.1032\n",
       "673 2020-05-20 4      327.5370\n",
       "674 2020-05-21 4      334.5552\n",
       "675 2020-05-22 4      341.6151\n",
       "676 2020-05-23 4      348.0734\n",
       "677 2020-05-24 4      353.8415\n",
       "678 2020-05-25 4      358.6165\n",
       "679 2020-05-26 4      363.8075\n",
       "680 2020-05-27 4      369.1168\n",
       "681 2020-05-28 4      375.0996\n",
       "682 2020-05-29 4      381.8624\n",
       "683 2020-05-30 4      387.2825\n",
       "684 2020-05-31 4      392.9169\n",
       "685 2020-06-01 4      397.3349\n",
       "686 2020-06-02 4      402.0393\n",
       "687 2020-06-03 4      407.4139\n",
       "688 2020-06-04 4      413.0217\n",
       "689 2020-06-05 4      421.9083\n",
       "690 2020-06-06 4      428.0847\n",
       "691 2020-06-07 4      432.7780\n",
       "692 2020-06-08 4      437.4217\n",
       "693 2020-06-09 4      442.1543\n",
       "694 2020-06-10 4      447.2104\n",
       "695 2020-06-11 4      452.4854\n",
       "696 2020-06-12 4      459.6261\n",
       "697 2020-06-13 4      465.2486\n",
       "698 2020-06-14 4      469.8151\n",
       "699 2020-06-15 4      475.1633\n",
       "700 2020-06-16 4      480.3761\n",
       "... ...        ...    ...     \n",
       "891 2020-06-23 5      571.0949\n",
       "892 2020-06-24 5      579.1904\n",
       "893 2020-06-25 5      589.2766\n",
       "894 2020-06-26 5      599.2382\n",
       "895 2020-06-27 5      607.8928\n",
       "896 2020-06-28 5      615.1995\n",
       "897 2020-06-29 5      624.0744\n",
       "898 2020-06-30 5      633.3983\n",
       "899 2020-07-01 5      643.1414\n",
       "900 2020-07-02 5      652.8915\n",
       "901 2020-07-03 5      665.9587\n",
       "902 2020-07-04 5      674.4244\n",
       "903 2020-07-05 5      681.5409\n",
       "904 2020-07-06 5      690.2116\n",
       "905 2020-07-07 5      700.3631\n",
       "906 2020-07-08 5      712.8518\n",
       "907 2020-07-09 5      725.4047\n",
       "908 2020-07-10 5      739.4262\n",
       "909 2020-07-11 5      752.7004\n",
       "910 2020-07-12 5      762.8168\n",
       "911 2020-07-13 5      776.4341\n",
       "912 2020-07-14 5      789.6846\n",
       "913 2020-07-15 5      806.2433\n",
       "914 2020-07-16 5      821.8463\n",
       "915 2020-07-17 5      838.2910\n",
       "916 2020-07-18 5      853.0974\n",
       "917 2020-07-19 5      865.9449\n",
       "918 2020-07-20 5      880.2911\n",
       "919 2020-07-21 5      897.1267\n",
       "920 2020-07-22 5      912.1955"
      ]
     },
     "metadata": {},
     "output_type": "display_data"
    }
   ],
   "source": [
    "tail(cases_weight,250)"
   ]
  },
  {
   "cell_type": "markdown",
   "metadata": {},
   "source": [
    "# Merge into one and put in CSV"
   ]
  },
  {
   "cell_type": "code",
   "execution_count": 31,
   "metadata": {},
   "outputs": [],
   "source": [
    "final <- cases_weight %>% left_join(credit_weight, by=c(\"Date\",\"decile\"))\n",
    "final <- final %>% left_join(deaths_weight, by=c(\"Date\",\"decile\"))\n",
    "final <- final %>% left_join(mobility_weight, by=c(\"Date\",\"decile\"))\n",
    "final <- final %>% left_join(revenue_weight, by=c(\"Date\",\"decile\"))"
   ]
  },
  {
   "cell_type": "code",
   "execution_count": 33,
   "metadata": {},
   "outputs": [],
   "source": [
    "write.csv(final,\"weighted_econ_data.csv\")"
   ]
  },
  {
   "cell_type": "code",
   "execution_count": null,
   "metadata": {
    "scrolled": true
   },
   "outputs": [],
   "source": [
    "tail(final,50)"
   ]
  },
  {
   "cell_type": "code",
   "execution_count": 35,
   "metadata": {},
   "outputs": [],
   "source": [
    "deaths_check <- read.csv(\"https://raw.githubusercontent.com/OpportunityInsights/EconomicTracker/main/data/COVID%20Deaths%20-%20State%20-%20Daily.csv\")\n",
    "state_check <- read.csv(\"https://raw.githubusercontent.com/OpportunityInsights/EconomicTracker/main/data/GeoIDs%20-%20State.csv\")"
   ]
  },
  {
   "cell_type": "code",
   "execution_count": 36,
   "metadata": {},
   "outputs": [],
   "source": [
    "deaths_check$Date <- as.Date(with(deaths_check, paste(year, month, day,sep=\"-\")), \"%Y-%m-%d\")"
   ]
  },
  {
   "cell_type": "code",
   "execution_count": 39,
   "metadata": {},
   "outputs": [],
   "source": [
    "deaths_check <- deaths_check %>% left_join(state_check, by=c(\"statefips\"))"
   ]
  },
  {
   "cell_type": "code",
   "execution_count": 40,
   "metadata": {},
   "outputs": [
    {
     "data": {
      "text/html": [
       "<table>\n",
       "<thead><tr><th scope=col>year</th><th scope=col>month</th><th scope=col>day</th><th scope=col>statefips</th><th scope=col>death_rate</th><th scope=col>new_death_rate</th><th scope=col>Date</th><th scope=col>statename</th><th scope=col>stateabbrev</th><th scope=col>state_pop2019</th></tr></thead>\n",
       "<tbody>\n",
       "\t<tr><td>2020      </td><td>1         </td><td>21        </td><td>1         </td><td>0         </td><td>.         </td><td>2020-01-21</td><td>Alabama   </td><td>AL        </td><td> 4903185  </td></tr>\n",
       "\t<tr><td>2020      </td><td>1         </td><td>21        </td><td>2         </td><td>0         </td><td>.         </td><td>2020-01-21</td><td>Alaska    </td><td>AK        </td><td>  731545  </td></tr>\n",
       "\t<tr><td>2020      </td><td>1         </td><td>21        </td><td>4         </td><td>0         </td><td>.         </td><td>2020-01-21</td><td>Arizona   </td><td>AZ        </td><td> 7278717  </td></tr>\n",
       "\t<tr><td>2020      </td><td>1         </td><td>21        </td><td>5         </td><td>0         </td><td>.         </td><td>2020-01-21</td><td>Arkansas  </td><td>AR        </td><td> 3017804  </td></tr>\n",
       "\t<tr><td>2020      </td><td>1         </td><td>21        </td><td>6         </td><td>0         </td><td>.         </td><td>2020-01-21</td><td>California</td><td>CA        </td><td>39512223  </td></tr>\n",
       "\t<tr><td>2020      </td><td>1         </td><td>21        </td><td>8         </td><td>0         </td><td>.         </td><td>2020-01-21</td><td>Colorado  </td><td>CO        </td><td> 5758736  </td></tr>\n",
       "</tbody>\n",
       "</table>\n"
      ],
      "text/latex": [
       "\\begin{tabular}{r|llllllllll}\n",
       " year & month & day & statefips & death\\_rate & new\\_death\\_rate & Date & statename & stateabbrev & state\\_pop2019\\\\\n",
       "\\hline\n",
       "\t 2020       & 1          & 21         & 1          & 0          & .          & 2020-01-21 & Alabama    & AL         &  4903185  \\\\\n",
       "\t 2020       & 1          & 21         & 2          & 0          & .          & 2020-01-21 & Alaska     & AK         &   731545  \\\\\n",
       "\t 2020       & 1          & 21         & 4          & 0          & .          & 2020-01-21 & Arizona    & AZ         &  7278717  \\\\\n",
       "\t 2020       & 1          & 21         & 5          & 0          & .          & 2020-01-21 & Arkansas   & AR         &  3017804  \\\\\n",
       "\t 2020       & 1          & 21         & 6          & 0          & .          & 2020-01-21 & California & CA         & 39512223  \\\\\n",
       "\t 2020       & 1          & 21         & 8          & 0          & .          & 2020-01-21 & Colorado   & CO         &  5758736  \\\\\n",
       "\\end{tabular}\n"
      ],
      "text/markdown": [
       "\n",
       "| year | month | day | statefips | death_rate | new_death_rate | Date | statename | stateabbrev | state_pop2019 |\n",
       "|---|---|---|---|---|---|---|---|---|---|\n",
       "| 2020       | 1          | 21         | 1          | 0          | .          | 2020-01-21 | Alabama    | AL         |  4903185   |\n",
       "| 2020       | 1          | 21         | 2          | 0          | .          | 2020-01-21 | Alaska     | AK         |   731545   |\n",
       "| 2020       | 1          | 21         | 4          | 0          | .          | 2020-01-21 | Arizona    | AZ         |  7278717   |\n",
       "| 2020       | 1          | 21         | 5          | 0          | .          | 2020-01-21 | Arkansas   | AR         |  3017804   |\n",
       "| 2020       | 1          | 21         | 6          | 0          | .          | 2020-01-21 | California | CA         | 39512223   |\n",
       "| 2020       | 1          | 21         | 8          | 0          | .          | 2020-01-21 | Colorado   | CO         |  5758736   |\n",
       "\n"
      ],
      "text/plain": [
       "  year month day statefips death_rate new_death_rate Date       statename \n",
       "1 2020 1     21  1         0          .              2020-01-21 Alabama   \n",
       "2 2020 1     21  2         0          .              2020-01-21 Alaska    \n",
       "3 2020 1     21  4         0          .              2020-01-21 Arizona   \n",
       "4 2020 1     21  5         0          .              2020-01-21 Arkansas  \n",
       "5 2020 1     21  6         0          .              2020-01-21 California\n",
       "6 2020 1     21  8         0          .              2020-01-21 Colorado  \n",
       "  stateabbrev state_pop2019\n",
       "1 AL           4903185     \n",
       "2 AK            731545     \n",
       "3 AZ           7278717     \n",
       "4 AR           3017804     \n",
       "5 CA          39512223     \n",
       "6 CO           5758736     "
      ]
     },
     "metadata": {},
     "output_type": "display_data"
    }
   ],
   "source": [
    "head(deaths_check)"
   ]
  },
  {
   "cell_type": "code",
   "execution_count": 42,
   "metadata": {},
   "outputs": [],
   "source": [
    "write.csv(deaths_check,\"deaths_check.csv\")"
   ]
  }
 ],
 "metadata": {
  "kernelspec": {
   "display_name": "R",
   "language": "R",
   "name": "ir"
  },
  "language_info": {
   "codemirror_mode": "r",
   "file_extension": ".r",
   "mimetype": "text/x-r-source",
   "name": "R",
   "pygments_lexer": "r",
   "version": "3.6.1"
  }
 },
 "nbformat": 4,
 "nbformat_minor": 2
}
